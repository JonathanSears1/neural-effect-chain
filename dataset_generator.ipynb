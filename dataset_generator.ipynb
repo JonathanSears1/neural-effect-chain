{
 "cells": [
  {
   "cell_type": "code",
   "execution_count": 2,
   "metadata": {},
   "outputs": [
    {
     "name": "stderr",
     "output_type": "stream",
     "text": [
      "/home/jonat/capstone/neural-effects-venv/lib/python3.10/site-packages/tqdm/auto.py:21: TqdmWarning: IProgress not found. Please update jupyter and ipywidgets. See https://ipywidgets.readthedocs.io/en/stable/user_install.html\n",
      "  from .autonotebook import tqdm as notebook_tqdm\n"
     ]
    }
   ],
   "source": [
    "import pandas as pd\n",
    "from dataset.data_generate import DataGenerator\n",
    "from pedalboard import Pedalboard, Chorus, Reverb\n",
    "import pickle"
   ]
  },
  {
   "cell_type": "code",
   "execution_count": 3,
   "metadata": {},
   "outputs": [
    {
     "data": {
      "text/plain": [
       "700"
      ]
     },
     "execution_count": 3,
     "metadata": {},
     "output_type": "execute_result"
    }
   ],
   "source": [
    "df = pd.read_csv('data/neural_chain_dataset/Metadata_Train.csv')\n",
    "guitar_df = df[df['Class'] == 'Sound_Guitar']\n",
    "len(guitar_df)"
   ]
  },
  {
   "cell_type": "code",
   "execution_count": 4,
   "metadata": {},
   "outputs": [
    {
     "data": {
      "text/plain": [
       "['1-E1-Major 00.wav',\n",
       " '1-E1-Major 01.wav',\n",
       " '1-E1-Major 02.wav',\n",
       " '1-E1-Major 03.wav',\n",
       " '1-E1-Major 04.wav',\n",
       " '1-E1-Major 05.wav',\n",
       " '1-E1-Major 06.wav',\n",
       " '1-E1-Major 07.wav',\n",
       " '1-E1-Major 08.wav',\n",
       " '1-E1-Major 09.wav',\n",
       " '1-E1-Major 10.wav',\n",
       " '2-E1-Minor 00.wav',\n",
       " '2-E1-Minor 01.wav',\n",
       " '2-E1-Minor 02.wav',\n",
       " '2-E1-Minor 03.wav',\n",
       " '2-E1-Minor 04.wav',\n",
       " '2-E1-Minor 05.wav',\n",
       " '2-E1-Minor 06.wav',\n",
       " '2-E1-Minor 07.wav',\n",
       " '2-E1-Minor 08.wav']"
      ]
     },
     "execution_count": 4,
     "metadata": {},
     "output_type": "execute_result"
    }
   ],
   "source": [
    "sample_tones = guitar_df['FileName'].tolist()[:20]\n",
    "sample_tones"
   ]
  },
  {
   "cell_type": "code",
   "execution_count": 5,
   "metadata": {},
   "outputs": [],
   "source": [
    "effects_parameters = {\n",
    "    \"Chorus\": {\n",
    "        \"rate_hz\": (0.1, 5.0),\n",
    "        \"depth\": (0, 1),\n",
    "        \"centre_delay_ms\": (0, 50),\n",
    "        \"feedback\": (-1, 1),\n",
    "        \"mix\": (0, 1)\n",
    "    },\n",
    "    \"Reverb\": {\n",
    "        \"room_size\": (0, 1),\n",
    "        \"damping\": (0, 1),\n",
    "        \"wet_level\": (0, 1),\n",
    "        \"dry_level\": (0, 1),\n",
    "        \"width\": (0, 1),\n",
    "        \"freeze_mode\": (0, 1)\n",
    "    }\n",
    "    }\n",
    "effects = [Chorus, Reverb]\n",
    "\n",
    "generator = DataGenerator(effects_parameters, effects)\n",
    "dataset = generator.create_data(100,'data/neural_chain_dataset/Train_submission/Train_submission',sample_tones,1)"
   ]
  },
  {
   "cell_type": "code",
   "execution_count": 5,
   "metadata": {},
   "outputs": [
    {
     "data": {
      "text/plain": [
       "{'dry_tone_path': 'data/neural_chain_dataset/Train_submission/Train_submission/1-E1-Major 00.wav',\n",
       " 'wet_tone_path': 'data/wet_tones/1-E1-Major 00_wet_0.wav',\n",
       " 'wet_tone_features': {'input_values': tensor([[[-1.1003, -1.2776, -1.0305,  ..., -1.2776, -1.2776, -1.2776],\n",
       "          [-1.0622, -1.2776, -0.9014,  ..., -1.2776, -1.2776, -1.2292],\n",
       "          [-0.8813, -1.1324, -0.7556,  ..., -1.2776, -1.2776, -1.2776],\n",
       "          ...,\n",
       "          [ 0.4670,  0.4670,  0.4670,  ...,  0.4670,  0.4670,  0.4670],\n",
       "          [ 0.4670,  0.4670,  0.4670,  ...,  0.4670,  0.4670,  0.4670],\n",
       "          [ 0.4670,  0.4670,  0.4670,  ...,  0.4670,  0.4670,  0.4670]]])},\n",
       " 'effect_names': ['Reverb'],\n",
       " 'effects': tensor([[0., 1.]]),\n",
       " 'parameters': tensor([[0.7434, 0.4587, 0.7587, 0.1277, 0.1808, 0.1273, 0.0000, 0.0000, 0.0000,\n",
       "          0.0000, 0.0000, 0.0000, 0.0000, 0.0000, 0.0000, 0.0000, 0.0000, 0.0000,\n",
       "          0.0000, 0.0000, 0.0000, 0.0000, 0.0000, 0.0000, 0.0000, 0.0000, 0.0000,\n",
       "          0.0000, 0.0000, 0.0000, 0.0000, 0.0000, 0.0000, 0.0000, 0.0000, 0.0000,\n",
       "          0.0000, 0.0000, 0.0000, 0.0000, 0.0000, 0.0000, 0.0000, 0.0000, 0.0000]]),\n",
       " 'index': 0}"
      ]
     },
     "execution_count": 5,
     "metadata": {},
     "output_type": "execute_result"
    }
   ],
   "source": [
    "dataset[0]"
   ]
  },
  {
   "cell_type": "code",
   "execution_count": 6,
   "metadata": {},
   "outputs": [],
   "source": [
    "\n",
    "with open('data/guitar_sample_dataset.pkl', 'wb') as f:\n",
    "    pickle.dump(dataset, f)"
   ]
  }
 ],
 "metadata": {
  "kernelspec": {
   "display_name": "neural-effects-venv",
   "language": "python",
   "name": "python3"
  },
  "language_info": {
   "codemirror_mode": {
    "name": "ipython",
    "version": 3
   },
   "file_extension": ".py",
   "mimetype": "text/x-python",
   "name": "python",
   "nbconvert_exporter": "python",
   "pygments_lexer": "ipython3",
   "version": "3.10.12"
  }
 },
 "nbformat": 4,
 "nbformat_minor": 2
}
